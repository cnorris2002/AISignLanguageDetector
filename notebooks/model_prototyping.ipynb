{
 "cells": [
  {
   "cell_type": "code",
   "execution_count": 1,
   "id": "0a9db023",
   "metadata": {},
   "outputs": [
    {
     "name": "stdout",
     "output_type": "stream",
     "text": [
      "Libraries imported.\n"
     ]
    }
   ],
   "source": [
    "import numpy as np\n",
    "import os\n",
    "import joblib # For saving the model\n",
    "from sklearn.ensemble import RandomForestClassifier # Or your chosen classifier\n",
    "from sklearn.model_selection import train_test_split\n",
    "from sklearn.metrics import accuracy_score, classification_report\n",
    "\n",
    "print(\"Libraries imported.\")"
   ]
  },
  {
   "cell_type": "code",
   "execution_count": 2,
   "id": "869d2d41",
   "metadata": {},
   "outputs": [
    {
     "name": "stdout",
     "output_type": "stream",
     "text": [
      "Parameters defined.\n"
     ]
    }
   ],
   "source": [
    "# --- Model & Training Parameters ---\n",
    "MODEL_CHOICE = RandomForestClassifier # Assign the class itself\n",
    "MODEL_PARAMS = {'n_estimators': 100, 'random_state': 42} # Parameters for the model\n",
    "\n",
    "TEST_SPLIT_SIZE = 0.2 # Use 20% of data for validation/testing\n",
    "RANDOM_STATE = 42 # For reproducibility\n",
    "\n",
    "NUM_FEATURES = 63 # IMPORTANT: Should match output of landmark_extractor (21 landmarks * 3 coords)\n",
    "NUM_CLASSES = 29  # A-Z + space, del, nothing (confirm with your dataset)\n",
    "\n",
    "MODEL_SAVE_PATH = '../models/asl_classifier.pkl' # Path to save the trained model\n",
    "# Create the directory if it doesn't exist\n",
    "os.makedirs(os.path.dirname(MODEL_SAVE_PATH), exist_ok=True) \n",
    "\n",
    "print(\"Parameters defined.\")"
   ]
  },
  {
   "cell_type": "code",
   "execution_count": 5,
   "id": "a84d9da0",
   "metadata": {},
   "outputs": [
    {
     "name": "stdout",
     "output_type": "stream",
     "text": [
      "Generating 1000 dummy samples...\n",
      "Dummy data generated.\n",
      "Dummy X shape: (1000, 63)\n",
      "Dummy y shape: (1000,)\n"
     ]
    }
   ],
   "source": [
    "def generate_dummy_data(num_samples, num_features, num_classes):\n",
    "    \"\"\"Generates random dummy data for testing the pipeline.\"\"\"\n",
    "    print(f\"Generating {num_samples} dummy samples...\")\n",
    "    X = np.random.rand(num_samples, num_features) \n",
    "    y = np.random.randint(0, num_classes, size=num_samples)\n",
    "    print(\"Dummy data generated.\")\n",
    "    return X, y\n",
    "\n",
    "# Generate the dummy data using parameters defined above\n",
    "X_dummy, y_dummy = generate_dummy_data(1000, NUM_FEATURES, NUM_CLASSES) # Increased samples slightly\n",
    "\n",
    "print(f\"Dummy X shape: {X_dummy.shape}\") # Should be (200, 63)\n",
    "print(f\"Dummy y shape: {y_dummy.shape}\") # Should be (200,)"
   ]
  },
  {
   "cell_type": "code",
   "execution_count": 6,
   "id": "8d69e86a",
   "metadata": {},
   "outputs": [
    {
     "name": "stdout",
     "output_type": "stream",
     "text": [
      "Splitting data into train and validation sets...\n",
      "Train set size: 800 samples\n",
      "Validation set size: 200 samples\n"
     ]
    }
   ],
   "source": [
    "print(\"Splitting data into train and validation sets...\")\n",
    "X_train, X_val, y_train, y_val = train_test_split(\n",
    "    X_dummy, y_dummy, \n",
    "    test_size=TEST_SPLIT_SIZE, \n",
    "    random_state=RANDOM_STATE,\n",
    "    stratify=y_dummy # Important for classification\n",
    ")\n",
    "\n",
    "print(f\"Train set size: {X_train.shape[0]} samples\")\n",
    "print(f\"Validation set size: {X_val.shape[0]} samples\")"
   ]
  },
  {
   "cell_type": "code",
   "execution_count": 7,
   "id": "8f21dbae",
   "metadata": {},
   "outputs": [
    {
     "name": "stdout",
     "output_type": "stream",
     "text": [
      "Initialized model: RandomForestClassifier(random_state=42)\n",
      "Training model on dummy data...\n",
      "Model training complete.\n"
     ]
    }
   ],
   "source": [
    "# Initialize the model\n",
    "model = MODEL_CHOICE(**MODEL_PARAMS) \n",
    "print(f\"Initialized model: {model}\")\n",
    "\n",
    "# Train the model\n",
    "print(\"Training model on dummy data...\")\n",
    "model.fit(X_train, y_train) \n",
    "print(\"Model training complete.\")"
   ]
  },
  {
   "cell_type": "code",
   "execution_count": 8,
   "id": "f33a74d5",
   "metadata": {},
   "outputs": [
    {
     "name": "stdout",
     "output_type": "stream",
     "text": [
      "Evaluating model on dummy validation data...\n",
      "Validation Accuracy: 0.0150\n",
      "Classification Report:\n",
      "               precision    recall  f1-score   support\n",
      "\n",
      "           0       0.00      0.00      0.00         8\n",
      "           1       0.00      0.00      0.00         6\n",
      "           2       0.09      0.12      0.11         8\n",
      "           3       0.00      0.00      0.00         8\n",
      "           4       0.00      0.00      0.00         6\n",
      "           5       0.00      0.00      0.00         6\n",
      "           6       0.00      0.00      0.00         6\n",
      "           7       0.08      0.12      0.10         8\n",
      "           8       0.04      0.10      0.06        10\n",
      "           9       0.00      0.00      0.00         7\n",
      "          10       0.00      0.00      0.00         7\n",
      "          11       0.00      0.00      0.00         6\n",
      "          12       0.00      0.00      0.00         6\n",
      "          13       0.00      0.00      0.00         7\n",
      "          14       0.00      0.00      0.00         8\n",
      "          15       0.00      0.00      0.00         6\n",
      "          16       0.00      0.00      0.00         8\n",
      "          17       0.00      0.00      0.00         6\n",
      "          18       0.00      0.00      0.00         7\n",
      "          19       0.00      0.00      0.00         4\n",
      "          20       0.00      0.00      0.00         7\n",
      "          21       0.00      0.00      0.00         7\n",
      "          22       0.00      0.00      0.00         6\n",
      "          23       0.00      0.00      0.00         9\n",
      "          24       0.00      0.00      0.00         7\n",
      "          25       0.00      0.00      0.00         7\n",
      "          26       0.00      0.00      0.00         5\n",
      "          27       0.00      0.00      0.00         8\n",
      "          28       0.00      0.00      0.00         6\n",
      "\n",
      "    accuracy                           0.01       200\n",
      "   macro avg       0.01      0.01      0.01       200\n",
      "weighted avg       0.01      0.01      0.01       200\n",
      "\n"
     ]
    }
   ],
   "source": [
    "# Evaluate the model\n",
    "print(\"Evaluating model on dummy validation data...\")\n",
    "y_pred = model.predict(X_val)\n",
    "\n",
    "# Calculate accuracy\n",
    "accuracy = accuracy_score(y_val, y_pred)\n",
    "print(f\"Validation Accuracy: {accuracy:.4f}\")\n",
    "\n",
    "# Print classification report (might give warnings with dummy data if not all classes are present in split)\n",
    "try:\n",
    "    # Use zero_division=0 to avoid errors if a class has no predictions/true samples in the small validation set\n",
    "    report = classification_report(y_val, y_pred, zero_division=0) \n",
    "    print(\"Classification Report:\\n\", report)\n",
    "except Exception as e:\n",
    "    print(f\"Could not generate full classification report: {e}\")"
   ]
  },
  {
   "cell_type": "code",
   "execution_count": 9,
   "id": "a40ed809",
   "metadata": {},
   "outputs": [
    {
     "name": "stdout",
     "output_type": "stream",
     "text": [
      "Saving model to: ../models/asl_classifier.pkl\n",
      "Model saved successfully.\n"
     ]
    }
   ],
   "source": [
    "# Save the trained model\n",
    "print(f\"Saving model to: {MODEL_SAVE_PATH}\")\n",
    "try:\n",
    "    joblib.dump(model, MODEL_SAVE_PATH)\n",
    "    print(\"Model saved successfully.\")\n",
    "except Exception as e:\n",
    "    print(f\"Error saving model: {e}\")"
   ]
  }
 ],
 "metadata": {
  "kernelspec": {
   "display_name": "venv",
   "language": "python",
   "name": "python3"
  },
  "language_info": {
   "codemirror_mode": {
    "name": "ipython",
    "version": 3
   },
   "file_extension": ".py",
   "mimetype": "text/x-python",
   "name": "python",
   "nbconvert_exporter": "python",
   "pygments_lexer": "ipython3",
   "version": "3.12.4"
  }
 },
 "nbformat": 4,
 "nbformat_minor": 5
}
